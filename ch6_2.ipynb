{
  "nbformat": 4,
  "nbformat_minor": 0,
  "metadata": {
    "colab": {
      "name": "Untitled15.ipynb",
      "provenance": [],
      "authorship_tag": "ABX9TyN4H8HT7GAeDlIyJYtxFmR4",
      "include_colab_link": true
    },
    "kernelspec": {
      "name": "python3",
      "display_name": "Python 3"
    },
    "language_info": {
      "name": "python"
    }
  },
  "cells": [
    {
      "cell_type": "markdown",
      "metadata": {
        "id": "view-in-github",
        "colab_type": "text"
      },
      "source": [
        "<a href=\"https://colab.research.google.com/github/ParkGeonHwi/-/blob/main/ch6_2.ipynb\" target=\"_parent\"><img src=\"https://colab.research.google.com/assets/colab-badge.svg\" alt=\"Open In Colab\"/></a>"
      ]
    },
    {
      "cell_type": "code",
      "execution_count": 1,
      "metadata": {
        "colab": {
          "base_uri": "https://localhost:8080/"
        },
        "id": "lVBZHxouQ_Be",
        "outputId": "f390c0de-cbad-45ec-d76d-719a92800faf"
      },
      "outputs": [
        {
          "output_type": "execute_result",
          "data": {
            "text/plain": [
              "10.0"
            ]
          },
          "metadata": {},
          "execution_count": 1
        }
      ],
      "source": [
        "10.\n",
        "# import turtle\n",
        "\n",
        "# t = turtle.Turtle()\n",
        "# t.shape(\"turtle\")\n",
        "\n",
        "# for i in range(5):\n",
        "#     t.fd(200);\n",
        "#     t.rt(90)\n",
        "#     t.fd(20);\n",
        "#     t.rt(90)\n",
        "#     t.fd(200);\n",
        "#     t.lt(90)\n",
        "#     t.fd(20);\n",
        "#     t.left(90)\n",
        "# t._screen.exitonclick()"
      ]
    },
    {
      "cell_type": "code",
      "source": [
        "11.\n",
        "# import turtle\n",
        "# t = turtle.Turtle()\n",
        "# t.shape(\"turtle\")\n",
        "# t.color('red', 'yellow')\n",
        "# t.begin_fill()\n",
        "# while True:\n",
        "#     t.fd(200)\n",
        "#     t.lt(170)\n",
        "#     if abs(t.pos()) < 1:\n",
        "#         break\n",
        "# t.end_fill()\n",
        "# t._screen.exitonclick()"
      ],
      "metadata": {
        "colab": {
          "base_uri": "https://localhost:8080/"
        },
        "id": "rhO2Rr_pR-X0",
        "outputId": "fe2f5942-9deb-4a3a-80e9-9c04605521f9"
      },
      "execution_count": 3,
      "outputs": [
        {
          "output_type": "execute_result",
          "data": {
            "text/plain": [
              "11.0"
            ]
          },
          "metadata": {},
          "execution_count": 3
        }
      ]
    },
    {
      "cell_type": "code",
      "source": [
        "12.\n",
        "# import turtle\n",
        "# import math\n",
        "\n",
        "# t = turtle.Turtle()\n",
        "# t.shape(\"turtle\")\n",
        "# t.color('red', 'yellow')\n",
        "\n",
        "# for x in range(0, 360):\n",
        "#     t.goto(x, 200 * math.sin(x*3.14/100))\n",
        "# t._screen.exitonclick()"
      ],
      "metadata": {
        "colab": {
          "base_uri": "https://localhost:8080/"
        },
        "id": "E3AjByfJSxOa",
        "outputId": "e12d88e7-65c4-4cda-d25e-efea50b58a59"
      },
      "execution_count": 5,
      "outputs": [
        {
          "output_type": "execute_result",
          "data": {
            "text/plain": [
              "12.0"
            ]
          },
          "metadata": {},
          "execution_count": 5
        }
      ]
    },
    {
      "cell_type": "code",
      "source": [
        ""
      ],
      "metadata": {
        "id": "asMcvPE1Tdvj"
      },
      "execution_count": null,
      "outputs": []
    }
  ]
}