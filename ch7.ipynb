{
  "nbformat": 4,
  "nbformat_minor": 0,
  "metadata": {
    "colab": {
      "name": "Untitled16.ipynb",
      "provenance": [],
      "authorship_tag": "ABX9TyMwZvY6WlCPnTeGYvJZzWq7",
      "include_colab_link": true
    },
    "kernelspec": {
      "name": "python3",
      "display_name": "Python 3"
    },
    "language_info": {
      "name": "python"
    }
  },
  "cells": [
    {
      "cell_type": "markdown",
      "metadata": {
        "id": "view-in-github",
        "colab_type": "text"
      },
      "source": [
        "<a href=\"https://colab.research.google.com/github/ParkGeonHwi/-/blob/main/ch7.ipynb\" target=\"_parent\"><img src=\"https://colab.research.google.com/assets/colab-badge.svg\" alt=\"Open In Colab\"/></a>"
      ]
    },
    {
      "cell_type": "code",
      "execution_count": 2,
      "metadata": {
        "id": "Z81GjjUfT3op"
      },
      "outputs": [],
      "source": [
        "# 1.\n",
        "# import turtle\n",
        "# t = turtle.Turtle()\n",
        "# t.shape(\"turtle\")\n",
        "# t.color(\"black\", \"white\")\n",
        "# s = turtle.Screen(); s.bgcolor('skyblue');\n",
        "\n",
        "# def draw_snowman(w, y):\n",
        "#     t.up()\n",
        "#     t.goto(x, y)\n",
        "#     t.down()\n",
        "#     t.begin_fill()\n",
        "#     t.circle(20)\n",
        "#     t.end_fill()\n",
        "#     t.goto(x, y-25)\n",
        "#     t.setheading(135)\n",
        "#     t.forward(50)\n",
        "#     t.backward(50)\n",
        "\n",
        "#     t.setheading(30)\n",
        "#     t.forward(50)\n",
        "#     t.backward(50)\n",
        "#     t.setheading(0)\n",
        "\n",
        "#      t.begin_fill()\n",
        "#     t.circle(15)\n",
        "#     t.end_fill()\n",
        "#     t.goto(x, y-70) \n",
        "#     t.begin_fill()\n",
        "#     t.circle(30)\n",
        "#     t.end_fill()\n",
        "\n",
        "# draw_snowman(0, 0)\n",
        "# draw_snowman(100, 0)\n",
        "# draw_snowman(200, 0)\n",
        "# t._screen.exitonclick()"
      ]
    },
    {
      "cell_type": "code",
      "source": [
        "# 2.\n",
        "# import turtle\n",
        "# t = turtle.Turtle()\n",
        "# t.shape(\"turtle\")\n",
        "# t.speed(0)\n",
        "\n",
        "# def hexagon():\n",
        "#   for i in range(6):\n",
        "#       turtle.forward\n",
        "#       turtle.left(360/6)\n",
        "\n",
        "# for i in range (6):\n",
        "#     hexagon()\n",
        "#     turtle.forward(100)\n",
        "#     turtle.right(60)\n",
        "# t.screen.exitonclick()"
      ],
      "metadata": {
        "id": "Cq68jupoWGng"
      },
      "execution_count": 4,
      "outputs": []
    },
    {
      "cell_type": "code",
      "source": [
        "# 3.\n",
        "# import turtle\n",
        "# t = turtle.Turtle()\n",
        "# t.shape(\"turtle\")\n",
        "# t.speed(9)\n",
        "\n",
        "# def f(x):\n",
        "#     return x**2 + 1\n",
        "# t.goto(200,0)\n",
        "# t.goto(0,0)\n",
        "# t.goto(0,200)\n",
        "# t.goto(0,0)\n",
        "\n",
        "# for x in range(150):\n",
        "#     t.goto(x, int(0.01*f(x)))\n",
        "\n",
        "# t._screen.exitonclick()"
      ],
      "metadata": {
        "id": "b2MnTlAvXHiF"
      },
      "execution_count": 6,
      "outputs": []
    },
    {
      "cell_type": "code",
      "source": [
        "# 4.\n",
        "# import turtle\n",
        "# t = turtle.Turtle()\n",
        "# t.shape(\"turtle\")\n",
        "# t.speed(0)\n",
        "\n",
        "# def draw_line():\n",
        "#     t.fd(100)\n",
        "#     t.backward(100)\n",
        "\n",
        "# for x in range(12):\n",
        "#     t.right(30)\n",
        "#     draw_line()\n",
        "\n",
        "# t._screen.exitonclick()"
      ],
      "metadata": {
        "id": "aOzeQMutZGWs"
      },
      "execution_count": 8,
      "outputs": []
    },
    {
      "cell_type": "code",
      "source": [
        "# 5.\n",
        "def happyBirthday(person):\n",
        "    print(\"Happy birthday to you!\")\n",
        "    print(\"Happy birthday to you!\")\n",
        "    print(\"Happy birthday, dear \" + person)\n",
        "    print(\"Happy birthday to you!\")\n",
        "\n",
        "happyBirthday(\"박건휘\")"
      ],
      "metadata": {
        "colab": {
          "base_uri": "https://localhost:8080/"
        },
        "id": "yh4g6K6Yi7aK",
        "outputId": "09a5c678-36fe-488a-9654-4377f4d0eaf3"
      },
      "execution_count": 10,
      "outputs": [
        {
          "output_type": "stream",
          "name": "stdout",
          "text": [
            "Happy birthday to you!\n",
            "Happy birthday to you!\n",
            "Happy birthday, dear 박건휘\n",
            "Happy birthday to you!\n"
          ]
        }
      ]
    },
    {
      "cell_type": "code",
      "source": [
        "# 6.\n",
        "def sumProblem(x, y):\n",
        "    sum = x + y\n",
        "    sentence = \"정수\" + str(x) + \"+\" + str(y) + \"의 gkq은?\"\n",
        "    print(sentence)\n",
        "\n",
        "def main():\n",
        "    a = int(input(\"첫 번째 정수: \"))\n",
        "    b = int(input(\"두 번째 정수: \"))\n",
        "    sumProblem(a, b) \n",
        "\n",
        "main()"
      ],
      "metadata": {
        "colab": {
          "base_uri": "https://localhost:8080/"
        },
        "id": "H5ELy8QnmSVu",
        "outputId": "5c77b43b-3743-4b79-a1d1-7fe2e660490b"
      },
      "execution_count": 12,
      "outputs": [
        {
          "output_type": "stream",
          "name": "stdout",
          "text": [
            "첫 번째 정수: 54\n",
            "두 번째 정수: 21\n",
            "정수54+21의 힘은?\n"
          ]
        }
      ]
    },
    {
      "cell_type": "code",
      "source": [
        "# 7.\n",
        "PI = 3.13159265358979\n",
        "\n",
        "def circleArea(radius) :\n",
        "    return PI * radius * radius\n",
        "\n",
        "def circleCircumference(radius):\n",
        "    return 2 * PI * radius\n",
        "\n",
        "def main():\n",
        "    print(\"반지름이 5인 원의 면적\", circleArea(5))\n",
        "    print(\"반지름이 5인 원의 둘레\", circleCircumference(5))\n",
        "\n",
        "main()"
      ],
      "metadata": {
        "colab": {
          "base_uri": "https://localhost:8080/"
        },
        "id": "p5Mn-3qr4Ep5",
        "outputId": "5859052b-5985-469e-e462-25cfe9e3e217"
      },
      "execution_count": 13,
      "outputs": [
        {
          "output_type": "stream",
          "name": "stdout",
          "text": [
            "반지름이 5인 원의 면적 78.28981633974476\n",
            "반지름이 5인 원의 둘레 31.3159265358979\n"
          ]
        }
      ]
    },
    {
      "cell_type": "code",
      "source": [
        "# 8.\n",
        "def add(a,b):\n",
        "    print(\"(%d + %d)\" % (a, b), end=\" \")\n",
        "    return a + b\n",
        "\n",
        "def subtract(a,b):\n",
        "    print(\"(%d - %d)\" % (a, b), end=\" \")\n",
        "    return a - b\n",
        "\n",
        "def multiply(a,b):\n",
        "    print(\"(%d * %d)\" % (a, b), end=\" \")\n",
        "    return a * b\n",
        "\n",
        "def divide(a,b):\n",
        "    print(\"(%d / %d)\" % (a, b), end=\" \")\n",
        "    return a / b\n",
        "\n",
        "what = add(20, 10)\n",
        "print(\"=\", what)\n",
        "\n",
        "what = subtract(20, 10)\n",
        "print(\"=\", what)\n",
        "\n",
        "what = multiply(20, 10)\n",
        "print(\"=\", what)\n",
        "\n",
        "what = divide(20, 10)\n",
        "print(\"=\", what)"
      ],
      "metadata": {
        "colab": {
          "base_uri": "https://localhost:8080/"
        },
        "id": "qPK9vB8eZAS_",
        "outputId": "0ea05c71-3c82-4126-f364-b977a3bf1ebc"
      },
      "execution_count": 15,
      "outputs": [
        {
          "output_type": "stream",
          "name": "stdout",
          "text": [
            "(20 + 10) = 30\n",
            "(20 - 10) = 10\n",
            "(20 * 10) = 200\n",
            "(20 / 10) = 2.0\n"
          ]
        }
      ]
    },
    {
      "cell_type": "code",
      "source": [
        ""
      ],
      "metadata": {
        "id": "0F4EKbcPcdq2"
      },
      "execution_count": null,
      "outputs": []
    }
  ]
}