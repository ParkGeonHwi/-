{
  "nbformat": 4,
  "nbformat_minor": 0,
  "metadata": {
    "colab": {
      "name": "Untitled14.ipynb",
      "provenance": [],
      "authorship_tag": "ABX9TyMKOCF7IJGkewy5DiOgmaGn",
      "include_colab_link": true
    },
    "kernelspec": {
      "name": "python3",
      "display_name": "Python 3"
    },
    "language_info": {
      "name": "python"
    }
  },
  "cells": [
    {
      "cell_type": "markdown",
      "metadata": {
        "id": "view-in-github",
        "colab_type": "text"
      },
      "source": [
        "<a href=\"https://colab.research.google.com/github/ParkGeonHwi/-/blob/main/ch6.ipynb\" target=\"_parent\"><img src=\"https://colab.research.google.com/assets/colab-badge.svg\" alt=\"Open In Colab\"/></a>"
      ]
    },
    {
      "cell_type": "code",
      "execution_count": 1,
      "metadata": {
        "colab": {
          "base_uri": "https://localhost:8080/"
        },
        "id": "nNhv8T-VF6UI",
        "outputId": "10a12ce9-ee92-4697-a6c3-199615699cba"
      },
      "outputs": [
        {
          "output_type": "stream",
          "name": "stdout",
          "text": [
            "2 4 6 8 10 12 14 16 18 20 22 24 26 28 30 32 34 36 38 40 42 44 46 48 50 52 54 56 58 60 62 64 66 68 70 72 74 76 78 80 82 84 86 88 90 92 94 96 98 100 "
          ]
        }
      ],
      "source": [
        "# 1.\n",
        "for i in range(2, 101):\n",
        "    if i%2 == 0 :\n",
        "      print(i, end = \" \")"
      ]
    },
    {
      "cell_type": "code",
      "source": [
        "2.\n",
        "year = 0\n",
        "balance = 1000\n",
        "\n",
        "while balance <= 2000 :\n",
        "  year = year + 1\n",
        "  interest = balance * 0.07 \n",
        "  balance = balance + interest\n",
        "print(year, \"년이 걸립니다.\")"
      ],
      "metadata": {
        "colab": {
          "base_uri": "https://localhost:8080/"
        },
        "id": "I4K97tUCGu9Q",
        "outputId": "39c2623f-512d-46fb-fee3-3c85f87a6c68"
      },
      "execution_count": 4,
      "outputs": [
        {
          "output_type": "stream",
          "name": "stdout",
          "text": [
            "11 년이 걸립니다.\n"
          ]
        }
      ]
    },
    {
      "cell_type": "code",
      "source": [
        "3.\n",
        "n = 1234\n",
        "sum = 0\n",
        "while n > 0:\n",
        "    digit = n % 10\n",
        "    sum = sum + digit\n",
        "    n = n // 10\n",
        "print(sum)"
      ],
      "metadata": {
        "colab": {
          "base_uri": "https://localhost:8080/"
        },
        "id": "OjMcn5foHWI6",
        "outputId": "2ca7a48a-9b19-474f-924a-75e4bc2c7a10"
      },
      "execution_count": 6,
      "outputs": [
        {
          "output_type": "stream",
          "name": "stdout",
          "text": [
            "10\n"
          ]
        }
      ]
    },
    {
      "cell_type": "code",
      "source": [
        "4.\n",
        "ans = 0\n",
        "while ans != 3*9 :\n",
        "    ans = int(input(\"3 x 9 = \"))\n",
        "print(\"맞았습니다.\")\n"
      ],
      "metadata": {
        "colab": {
          "base_uri": "https://localhost:8080/"
        },
        "id": "gmg5wKeyIFyR",
        "outputId": "7b35bd77-00ff-4dcc-bea0-9a6aee97bfe8"
      },
      "execution_count": 14,
      "outputs": [
        {
          "output_type": "stream",
          "name": "stdout",
          "text": [
            "3 x 9 = 27\n",
            "맞았습니다.\n"
          ]
        }
      ]
    },
    {
      "cell_type": "code",
      "source": [
        "5.\n",
        "sum = 0\n",
        "while True:\n",
        "    x = int(input(\"정수를 입력하시오.(0을 입력하면 덧셈 실행): \"))\n",
        "    if x == 0:\n",
        "        break;\n",
        "    sum = sum + x\n",
        "print(\"합은  \", sum, \"입니다. \")"
      ],
      "metadata": {
        "colab": {
          "base_uri": "https://localhost:8080/"
        },
        "id": "H93XV2pCIeFN",
        "outputId": "61478448-57c3-42d7-b9c2-bb159c7121fd"
      },
      "execution_count": 21,
      "outputs": [
        {
          "output_type": "stream",
          "name": "stdout",
          "text": [
            "정수를 입력하시오.(0을 입력하면 덧셈 실행): 4654\n",
            "정수를 입력하시오.(0을 입력하면 덧셈 실행): 45\n",
            "정수를 입력하시오.(0을 입력하면 덧셈 실행): 0\n",
            "합은   4699 입니다. \n"
          ]
        }
      ]
    },
    {
      "cell_type": "code",
      "source": [
        "6.\n",
        "from random import randint\n",
        "\n",
        "for i in range(3) :\n",
        "    d1 = randint(1, 6)\n",
        "    d2 = randint(1, 6)\n",
        "    print(\"첫번째 주사위=\", d1, \"두번째 주사위=\", d2)"
      ],
      "metadata": {
        "colab": {
          "base_uri": "https://localhost:8080/"
        },
        "id": "D_9ZWht6J6EW",
        "outputId": "40a2b6e2-a23e-48c4-a047-357adfff3a99"
      },
      "execution_count": 23,
      "outputs": [
        {
          "output_type": "stream",
          "name": "stdout",
          "text": [
            "첫번째 주사위= 3 두번째 주사위= 3\n",
            "첫번째 주사위= 4 두번째 주사위= 6\n",
            "첫번째 주사위= 6 두번째 주사위= 2\n"
          ]
        }
      ]
    },
    {
      "cell_type": "code",
      "source": [
        "7.\n",
        "# import turtle\n",
        "# t = turtle.Turtle()\n",
        "# t.shape(\"turtle\")\n",
        "# t.left(90)\n",
        "\n",
        "# for i in range(1, 7) :\n",
        "#     t.fd(100)\n",
        "#     t.fd(-30)\n",
        "#     t.lt(60)\n",
        "#     t.fd(60)\n",
        "#     t.fd(30)\n",
        "#     t.fd(-30)\n",
        "\n",
        "#     t.rt(120)\n",
        "#     t.fd(30)\n",
        "#     t.fd(-30)\n",
        "\n",
        "#     t.lt(60)\n",
        "#     t.fd(-70)\n",
        "#     t.left(60)\n",
        "#     t._streen.exitonclick()"
      ],
      "metadata": {
        "colab": {
          "base_uri": "https://localhost:8080/"
        },
        "id": "xYCpivldK7Cu",
        "outputId": "372b2bc5-7212-4282-890e-2ff85c121d40"
      },
      "execution_count": 28,
      "outputs": [
        {
          "output_type": "execute_result",
          "data": {
            "text/plain": [
              "7.0"
            ]
          },
          "metadata": {},
          "execution_count": 28
        }
      ]
    },
    {
      "cell_type": "code",
      "source": [
        "8.\n",
        "# import turtle\n",
        "\n",
        "# myPen = turtle.Turtle()\n",
        "# myPen.speed(0)\n",
        "# myPen.color(\"#ff0000\")\n",
        "\n",
        "# for j in range(1, 10):\n",
        "#     for i in range(1, 6):\n",
        "#         myPen.left(144)\n",
        "#         myPen.forward(200)\n",
        "#     myPen.left(10)\n",
        "\n",
        "# myPen._screen.exiltonclick()"
      ],
      "metadata": {
        "colab": {
          "base_uri": "https://localhost:8080/"
        },
        "id": "ohgHKgJyLdqx",
        "outputId": "69d6d85c-ca80-4866-e410-50a0bb3698b3"
      },
      "execution_count": 30,
      "outputs": [
        {
          "output_type": "execute_result",
          "data": {
            "text/plain": [
              "8.0"
            ]
          },
          "metadata": {},
          "execution_count": 30
        }
      ]
    },
    {
      "cell_type": "code",
      "source": [
        "9.\n",
        "# import turtle\n",
        "# import random\n",
        "\n",
        "# t = turle.Turtle()\n",
        "# t.shape(\"turtle\")\n",
        "\n",
        "# for j in range (1, 10) :\n",
        "#     t.up()\n",
        "#     x = random.randint(-200, 200)\n",
        "#     y = random.randint(-200, 200)\n",
        "#     t.goto(x, y)\n",
        "#     t.down()\n",
        "#     t.circle(r)\n",
        "# t._screen.exitonclick()"
      ],
      "metadata": {
        "colab": {
          "base_uri": "https://localhost:8080/"
        },
        "id": "txDoFqlIOSlM",
        "outputId": "ec23bcc0-4ae6-400c-e92b-0931a8c993ef"
      },
      "execution_count": 32,
      "outputs": [
        {
          "output_type": "execute_result",
          "data": {
            "text/plain": [
              "9.0"
            ]
          },
          "metadata": {},
          "execution_count": 32
        }
      ]
    },
    {
      "cell_type": "code",
      "source": [
        ""
      ],
      "metadata": {
        "id": "lUlUePG8PwQO"
      },
      "execution_count": null,
      "outputs": []
    }
  ]
}