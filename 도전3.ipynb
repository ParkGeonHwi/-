{
  "nbformat": 4,
  "nbformat_minor": 0,
  "metadata": {
    "colab": {
      "name": "Untitled5.ipynb",
      "provenance": [],
      "authorship_tag": "ABX9TyPAapfCTd1U5KqURlFqa0KO",
      "include_colab_link": true
    },
    "kernelspec": {
      "name": "python3",
      "display_name": "Python 3"
    },
    "language_info": {
      "name": "python"
    }
  },
  "cells": [
    {
      "cell_type": "markdown",
      "metadata": {
        "id": "view-in-github",
        "colab_type": "text"
      },
      "source": [
        "<a href=\"https://colab.research.google.com/github/ParkGeonHwi/-/blob/main/%EB%8F%84%EC%A0%843.ipynb\" target=\"_parent\"><img src=\"https://colab.research.google.com/assets/colab-badge.svg\" alt=\"Open In Colab\"/></a>"
      ]
    },
    {
      "cell_type": "code",
      "metadata": {
        "colab": {
          "base_uri": "https://localhost:8080/"
        },
        "id": "VI8B34ey6uZy",
        "outputId": "21e70078-e98e-4ee2-e154-ddcf689106d2"
      },
      "source": [
        "total = 100000 # 총 재료비용\n",
        "americano_price = 2000\n",
        "cafelatte_price = 3000\n",
        "capucino_price = 3500\n",
        "\n",
        "americanos = int(input(\"아메리카노 판매 개수: \"))\n",
        "cafelattes = int(input(\"카페라테 판매 개수: \"))\n",
        "capucinos = int(input(\"카푸치노 판매 개수: \"))\n",
        "\n",
        "sales = americanos*americano_price\n",
        "sales = sales + cafelattes * cafelatte_price\n",
        "sales = sales + capucinos * capucino_price\n",
        "print(\"총 매출은\", sales, \"입니다.\")\n",
        "\n",
        "if (total < sales) : print(\"흑자입니다.\")\n",
        "else : print(\"적자입니다,\")"
      ],
      "execution_count": 3,
      "outputs": [
        {
          "output_type": "stream",
          "name": "stdout",
          "text": [
            "아메리카노 판매 개수: 50\n",
            "카페라테 판매 개수: 30\n",
            "카푸치노 판매 개수: 40\n",
            "총 매출은 330000 입니다.\n",
            "흑자입니다.\n"
          ]
        }
      ]
    },
    {
      "cell_type": "code",
      "metadata": {
        "colab": {
          "base_uri": "https://localhost:8080/"
        },
        "id": "TFr7YM4O60dJ",
        "outputId": "8d4781d4-ea39-4d7b-c7f0-cd429c1a234e"
      },
      "source": [
        "ctemp = int(input(\"섭씨온도: \"))\n",
        "ftemp = 9/5*ctemp+32\n",
        "print(\"화씨온도: \",ftemp)"
      ],
      "execution_count": 5,
      "outputs": [
        {
          "output_type": "stream",
          "name": "stdout",
          "text": [
            "섭씨온도: 46\n",
            "화씨온도:  114.8\n"
          ]
        }
      ]
    },
    {
      "cell_type": "code",
      "metadata": {
        "colab": {
          "base_uri": "https://localhost:8080/"
        },
        "id": "B3edCuSI7BtJ",
        "outputId": "19b507a5-3a3e-438f-fe90-08f9d63fc1d5"
      },
      "source": [
        "money = int(input(\"투입한 돈: \"))\n",
        "price = int(input(\"물건 값: \"))\n",
        "\n",
        "change = money - price\n",
        "print(\"거스름돈: \",change)\n",
        "coin500s = change // 500 # 500으로 나누어서 몫이 500원짜리의 개수\n",
        "change = change % 500 # 500으로 나눈 나머지를 계산한다.\n",
        "coin100s = change // 100 # 100으로 나누어서 몫이 500원짜리의 개수\n",
        "change = change % 100 # 100으로 나눈 나머지를 계산한다.\n",
        "coin50s = change // 50 # 50으로 나누어서 몫이 500원짜리의 개수\n",
        "change = change % 50 # 50으로 나눈 나머지를 계산한다.\n",
        "coin10s = change // 10 # 10으로 나누어서 몫이 500원짜리의 개수\n",
        "change = change % 10 # 10으로 나눈 나머지를 계산한다.\n",
        "print(\"500원 동전의 개수: \", coin500s)\n",
        "print(\"100원 동전의 개수: \", coin100s)\n",
        "print(\"50원 동전의 개수: \", coin50s)\n",
        "print(\"10원 동전의 개수: \", coin10s)"
      ],
      "execution_count": 9,
      "outputs": [
        {
          "output_type": "stream",
          "name": "stdout",
          "text": [
            "투입한 돈: 2000\n",
            "물건 값: 1000\n",
            "거스름돈:  1000\n",
            "500원 동전의 개수:  2\n",
            "100원 동전의 개수:  0\n",
            "50원 동전의 개수:  0\n",
            "10원 동전의 개수:  0\n"
          ]
        }
      ]
    },
    {
      "cell_type": "code",
      "metadata": {
        "colab": {
          "base_uri": "https://localhost:8080/"
        },
        "id": "GGQ_VyJO7Z1Q",
        "outputId": "b6fe65b9-f0e3-4eba-8776-d118dcf8531f"
      },
      "source": [
        "money = int(input(\"투입한 돈: \"))\n",
        "price = int(input(\"물건 값: \")) \n",
        "\n",
        "change = money - price\n",
        "coin500s = change // 500\n",
        "change = change % 500\n",
        "coin100s = change // 100\n",
        "\n",
        "print(\"500원 동전의 개수: \", coin500s)\n",
        "print(\"100원 동전의 개수: \", coin100s)"
      ],
      "execution_count": 10,
      "outputs": [
        {
          "output_type": "stream",
          "name": "stdout",
          "text": [
            "투입한 돈: 5000\n",
            "물건 값: 2000\n",
            "500원 동전의 개수:  6\n",
            "100원 동전의 개수:  0\n"
          ]
        }
      ]
    },
    {
      "cell_type": "code",
      "metadata": {
        "colab": {
          "base_uri": "https://localhost:8080/"
        },
        "id": "IT2W8Uz37dNg",
        "outputId": "3e63a392-00dd-4d08-d722-4b8fd9e1fa13"
      },
      "source": [
        "money = int(input(\"투입한 돈: \")) # 변수 money를 선언하고 정수형으로 받는다.\n",
        "price = int(input(\"물건 값: \")) # 변수 price를 선언하고 정수로 받는다.\n",
        "\n",
        "change = money - price # 거스름돈을 계산한다.\n",
        "coin500s = change // 500 # 500으로 나누어서 몫이 500원짜리의 개수이다.\n",
        "change = change % 500 # 500으로 나눈 나머지를 계산한다.\n",
        "coin100s = change // 100 # 100으로 나누어서 몫이 100원짜리의 개수이다.\n",
        "print(\"500원 동전의 개수: \", coin500s) #거슬러줄 500원짜리의 개수를 출력한다.\n",
        "print(\"100원 동전의 개수: \", coin100s) #거슬러줄 100원짜리의 개수를 출력한다."
      ],
      "execution_count": 14,
      "outputs": [
        {
          "output_type": "stream",
          "name": "stdout",
          "text": [
            "투입한 돈: 3200\n",
            "물건 값: 1900\n",
            "500원 동전의 개수:  2\n",
            "100원 동전의 개수:  3\n"
          ]
        }
      ]
    }
  ]
}