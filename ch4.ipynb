{
  "nbformat": 4,
  "nbformat_minor": 0,
  "metadata": {
    "colab": {
      "name": "Untitled12.ipynb",
      "provenance": [],
      "authorship_tag": "ABX9TyP6sahS56TOUtANNqpCeV1n",
      "include_colab_link": true
    },
    "kernelspec": {
      "name": "python3",
      "display_name": "Python 3"
    },
    "language_info": {
      "name": "python"
    }
  },
  "cells": [
    {
      "cell_type": "markdown",
      "metadata": {
        "id": "view-in-github",
        "colab_type": "text"
      },
      "source": [
        "<a href=\"https://colab.research.google.com/github/ParkGeonHwi/-/blob/main/ch4.ipynb\" target=\"_parent\"><img src=\"https://colab.research.google.com/assets/colab-badge.svg\" alt=\"Open In Colab\"/></a>"
      ]
    },
    {
      "cell_type": "code",
      "execution_count": null,
      "metadata": {
        "id": "BxIobvLAbVNT"
      },
      "outputs": [],
      "source": [
        "# 1. \n",
        "# print('나는 ' + str(12) + '개의 사과를 먹었다.')"
      ]
    },
    {
      "cell_type": "code",
      "source": [
        "# 2.\n",
        "# print('apple' + 'group')\n",
        "# print('apple' * 3)\n",
        "# print('#' * 50)\n"
      ],
      "metadata": {
        "id": "WGKSAZLxzZhS"
      },
      "execution_count": null,
      "outputs": []
    },
    {
      "cell_type": "code",
      "source": [
        "# 3.\n",
        "# str = input(\"문자열을 입력하시오: \")\n",
        "# s = str[0:2] + str[-2:]\n",
        "# print(s)"
      ],
      "metadata": {
        "id": "larDQwe-zbQJ"
      },
      "execution_count": null,
      "outputs": []
    },
    {
      "cell_type": "code",
      "source": [
        "# 4.\n",
        "# s = input(\"문자열을 입력하시오: \")\n",
        "# s += \"하는 중\"\n",
        "# print(s)"
      ],
      "metadata": {
        "id": "n_e9oVNUzcpf"
      },
      "execution_count": null,
      "outputs": []
    },
    {
      "cell_type": "code",
      "source": [
        "# 5.\n",
        "# str = input(\"기호를 입력하시오: \")\n",
        "# word = input(\"중간에 삽입할 문자열을 입력하시오: \")\n",
        "# s = str[:1] + word +str[1:]\n",
        "# print(s)"
      ],
      "metadata": {
        "id": "8taKjI2Yz31D"
      },
      "execution_count": null,
      "outputs": []
    }
  ]
}