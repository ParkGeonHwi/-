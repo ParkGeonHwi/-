{
  "nbformat": 4,
  "nbformat_minor": 0,
  "metadata": {
    "colab": {
      "name": "Untitled13.ipynb",
      "provenance": [],
      "authorship_tag": "ABX9TyMaldH02ZyWZVf/Z3fD4G5s",
      "include_colab_link": true
    },
    "kernelspec": {
      "name": "python3",
      "display_name": "Python 3"
    },
    "language_info": {
      "name": "python"
    }
  },
  "cells": [
    {
      "cell_type": "markdown",
      "metadata": {
        "id": "view-in-github",
        "colab_type": "text"
      },
      "source": [
        "<a href=\"https://colab.research.google.com/github/ParkGeonHwi/-/blob/main/ch5.ipynb\" target=\"_parent\"><img src=\"https://colab.research.google.com/assets/colab-badge.svg\" alt=\"Open In Colab\"/></a>"
      ]
    },
    {
      "cell_type": "code",
      "execution_count": 1,
      "metadata": {
        "id": "e7OEW2Ch1y6u"
      },
      "outputs": [],
      "source": [
        "# lista = [1, 2, 3, 4]\n",
        "# sum = 0\n",
        "# sum = lista[0] + lista[1] + lista[2] + lista[3]\n",
        "# print(\"리스트 =\", lista)\n",
        "# print(\"리스트 숫자들의 합 =\", sum)"
      ]
    },
    {
      "cell_type": "code",
      "source": [
        "# t.fillcolor(\"yellow\")\n",
        "# t.being_fill()\n",
        "# t.clrcle(50)\n",
        "# t.end_fill()\n",
        "\n",
        "# import turtle\n",
        "# t = turtle.Turtle()\n",
        "# t.shape(\"turtle\")\n",
        "\n",
        "# lista = [ ]\n",
        "# color = input(\"색상 #1을 입력하시오: \")\n",
        "# lista.append(color)\n",
        "\n",
        "# color = input(\"색상 #2를 입력하시오: \")\n",
        "# lista.append(color)\n",
        "\n",
        "# color = input(\"색상 #3을 입력하시오: \")\n",
        "# lista.append(color)\n",
        "\n",
        "# t.fillcolor(list[0])\n",
        "# t.begin_fill()\n",
        "# t.circle(50)\n",
        "# t.end_fill()\n",
        "\n",
        "# t.up()\n",
        "# t.goto(100, 0)\n",
        "# t.down()\n",
        "# t.fillcolor(lista[1])\n",
        "# t.begin_fill()\n",
        "# t.circle(50)\n",
        "# t.end_fill()\n",
        "\n",
        "# t.up()\n",
        "# t.goto(200, 0)\n",
        "# t.down()\n",
        "# t.fillcolor(lista[2])\n",
        "# t.begin_fill()\n",
        "# t.circle(50)\n",
        "# t.end_fill()\n",
        "# t._screen.exitonclick()"
      ],
      "metadata": {
        "id": "LtDdXFqB116z"
      },
      "execution_count": 2,
      "outputs": []
    },
    {
      "cell_type": "code",
      "source": [
        "# import turtle\n",
        "# t = turtle.Turtle()\n",
        "# t.shape(\"turtle\")\n",
        "\n",
        "# lista = [ ]\n",
        "# lista.append(int(input(\"x1: \")))\n",
        "# lista.append(int(input(\"y1: \")))\n",
        "# lista.append(int(input(\"x2: \")))\n",
        "# lista.append(int(input(\"y2: \")))\n",
        "# lista.append(int(input(\"x3: \")))\n",
        "# lista.append(int(input(\"y3: \")))\n",
        "\n",
        "# t.goto(lista[0], lista[1])\n",
        "# t.goto(lista[2], lista[3])\n",
        "# t.goto(lista[4], lista[5])\n",
        "# t._screen.exitonclick()"
      ],
      "metadata": {
        "id": "QetZ-UUb15Rc"
      },
      "execution_count": 3,
      "outputs": []
    },
    {
      "cell_type": "code",
      "source": [
        "# age = 20   \n",
        "#  if age < 20:\n",
        "#      print('20살 미만')\n",
        "# else:\n",
        "#     print('20살 이상')"
      ],
      "metadata": {
        "id": "lII-LFmC1_Ex"
      },
      "execution_count": 4,
      "outputs": []
    },
    {
      "cell_type": "code",
      "source": [
        "# age = 20\n",
        "# if age >= 30 and age <= 50:\n",
        "#     print(\"30살 이상이고 50살 이하\")"
      ],
      "metadata": {
        "id": "0tzhRUHy2C51"
      },
      "execution_count": 5,
      "outputs": []
    },
    {
      "cell_type": "code",
      "source": [
        "# temp = int(input(\"현재 온도를 입력하시오: \"))\n",
        "\n",
        "# if temp >= 25:\n",
        "#     print(\"반바지 입으시면 됩니다. 더워요.\")\n",
        "# else:\n",
        "#     print(\"추워요. 긴바지 입으세요.\")"
      ],
      "metadata": {
        "id": "gshUj1-g2E0r"
      },
      "execution_count": 6,
      "outputs": []
    },
    {
      "cell_type": "code",
      "source": [
        "# score = int(input(\"점수를 입력하시오: \"))\n",
        "\n",
        "# if score >= 90:\n",
        "#     print(\"A 학점입니다.\")\n",
        "# elif score >= 80:\n",
        "#     print(\"B 학점입니다.\")\n",
        "# elif score >= 70:\n",
        "#     print(\"C 학점입니다.\")\n",
        "# elif score >= 60:\n",
        "#     print(\"D 학점입니다.\")\n",
        "# else :\n",
        "#     print(\"F 학점입니다.\")"
      ],
      "metadata": {
        "id": "1jMhcZEO2GYK"
      },
      "execution_count": 7,
      "outputs": []
    },
    {
      "cell_type": "code",
      "source": [
        "# import random\n",
        "\n",
        "# x = random.randint(1, 100)\n",
        "# y = random.randint(1, 100)\n",
        "\n",
        "# answer = int(input(str(x)+ \"-\" + str(y)+ \"-\"))\n",
        "\n",
        "# if answer == x-y :\n",
        "#     print(\"맞았습니다.\")\n",
        "# else :\n",
        "#     print(\"틀렸습니다.\")"
      ],
      "metadata": {
        "id": "9owkIC-U2LHJ"
      },
      "execution_count": 8,
      "outputs": []
    },
    {
      "cell_type": "code",
      "source": [
        "# n = int(input(\"점수를 입력하시오.\"))\n",
        "\n",
        "# if n&2==0 and n%3==0:\n",
        "#     print(\"2와 3으로 나누어 떨어집니다.\")\n",
        "# else :\n",
        "#     print(\"2와 3으로 나누어 떨어지지 않습니다.\")"
      ],
      "metadata": {
        "id": "UN-LMk6W2LyM"
      },
      "execution_count": 9,
      "outputs": []
    },
    {
      "cell_type": "code",
      "source": [
        "# import random\n",
        "\n",
        "# sol = random.randint(0, 99)\n",
        "# user = int(input(\"복권번호를 입력하기오 (0에서 99사이): \"))\n",
        "\n",
        "# digit1 = sol //10\n",
        "# digit2 = sol % 10\n",
        "\n",
        "# u_digit1 = user // 10\n",
        "# u_digit2 = user % 10\n",
        "\n",
        "# print(\"당첨 번호는\", sol, \"입니다.\")\n",
        "\n",
        "# if (digit1 == u_digit1 and digit2 == u_digit2):\n",
        "#     print(\"상금은 100만원입니다.\")\n",
        "# elif (digit1 == u_digit1\n",
        "#       or digit1 == u_digit2\n",
        "#       or digit2 == u_digit1\n",
        "#       or digit2 == u_digit2):\n",
        "#     print(\"상금은 50만원 입니다.\")\n",
        "# else : \n",
        "#     print(\"안타깝습니다. 상금은 없습니다.\")"
      ],
      "metadata": {
        "id": "O_Qb1WnM2OFr"
      },
      "execution_count": 10,
      "outputs": []
    },
    {
      "cell_type": "code",
      "source": [
        "# import turtle\n",
        "# t = turtle.Turtle()\n",
        "# t.shape(\"turtle\")\n",
        "\n",
        "# x1 = int(input(\"큰 원의 중심좌표 x1: \"))\n",
        "# y1 = int(input(\"큰 원의 중심좌표 y1: \"))\n",
        "# r1 = int(input(\"큰 원의 반지름 : \"))\n",
        "# x2 = int(input(\"작은 원의 중심좌표 x2: \"))\n",
        "# y2 = int(input(\"큰 원의 중심좌표 y1: \"))\n",
        "# r2 = int(input(\"작은 원의 반지름: \"))\n",
        "\n",
        "# t.penup()\n",
        "# t.goto(x1, y1)\n",
        "# t.pendown()\n",
        "# t.circle(r1)\n",
        "\n",
        "# t.penup()\n",
        "# t.goto(x2, y2)\n",
        "# t.pendown()\n",
        "# t.circle(r2)\n",
        "\n",
        "# dist = ((x1 - x2) * (x1 - x2) + (y1 - y2) & (y1 - y2)) ** 0.5\n",
        "# if dist <= r1 - r2:\n",
        "#     turtle.write(\"두번째 원이 첫번째 원의 내부에 있습니다.\")\n",
        "# elif dist <= r1 + r2:\n",
        "#     turtle.write(\"두번째 원이 첫번째 원과 겹칩니다.\")\n",
        "# else:\n",
        "#     turtle.write(\"두번째 원이 첫번쨰 원과 겹치지 않습니다.\")\n",
        "# t._screen.exitonclick()"
      ],
      "metadata": {
        "id": "RenPGBux2Qp8"
      },
      "execution_count": null,
      "outputs": []
    }
  ]
}